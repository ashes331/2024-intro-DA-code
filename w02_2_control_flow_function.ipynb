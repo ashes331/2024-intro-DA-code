{
  "nbformat": 4,
  "nbformat_minor": 0,
  "metadata": {
    "colab": {
      "provenance": [],
      "authorship_tag": "ABX9TyPQeRI4d87j5YHoQvzg4vtI",
      "include_colab_link": true
    },
    "kernelspec": {
      "name": "python3",
      "display_name": "Python 3"
    },
    "language_info": {
      "name": "python"
    }
  },
  "cells": [
    {
      "cell_type": "markdown",
      "metadata": {
        "id": "view-in-github",
        "colab_type": "text"
      },
      "source": [
        "<a href=\"https://colab.research.google.com/github/ashes331/2024-intro-DA-code-H.W/blob/main/w02_2_control_flow_function.ipynb\" target=\"_parent\"><img src=\"https://colab.research.google.com/assets/colab-badge.svg\" alt=\"Open In Colab\"/></a>"
      ]
    },
    {
      "cell_type": "markdown",
      "source": [
        "## 조건"
      ],
      "metadata": {
        "id": "Lz1jydi7poDZ"
      }
    },
    {
      "cell_type": "code",
      "execution_count": 4,
      "metadata": {
        "colab": {
          "base_uri": "https://localhost:8080/"
        },
        "id": "r0iJFz_ko7Nx",
        "outputId": "f503a1f2-4a14-4615-a9df-c6ab283efadf"
      },
      "outputs": [
        {
          "output_type": "stream",
          "name": "stdout",
          "text": [
            "짝수\n"
          ]
        }
      ],
      "source": [
        "n = 20\n",
        "if n%2 == 0:\n",
        "  print('짝수')"
      ]
    },
    {
      "cell_type": "code",
      "source": [
        "n = 21\n",
        "if n%2 == 0:\n",
        "  print('짝수')"
      ],
      "metadata": {
        "id": "xXvNkGcRp3bH"
      },
      "execution_count": 5,
      "outputs": []
    },
    {
      "cell_type": "code",
      "source": [
        "age = 18\n",
        "if age >= 20:\n",
        "  print('성인')\n",
        "else:\n",
        "  print('미성년자')"
      ],
      "metadata": {
        "colab": {
          "base_uri": "https://localhost:8080/"
        },
        "id": "G2TdMj7NqMEk",
        "outputId": "b5ac9aef-ef69-4abf-dcc2-1e0578058d3e"
      },
      "execution_count": 6,
      "outputs": [
        {
          "output_type": "stream",
          "name": "stdout",
          "text": [
            "미성년자\n"
          ]
        }
      ]
    },
    {
      "cell_type": "code",
      "source": [
        "age = 21\n",
        "if age >= 20:\n",
        "  print('성인')\n",
        "else:\n",
        "  print('미성년자')"
      ],
      "metadata": {
        "colab": {
          "base_uri": "https://localhost:8080/"
        },
        "id": "xBPLXASUqZqN",
        "outputId": "90d9f497-3c2f-43b5-9e6d-63128fa518a6"
      },
      "execution_count": 7,
      "outputs": [
        {
          "output_type": "stream",
          "name": "stdout",
          "text": [
            "성인\n"
          ]
        }
      ]
    },
    {
      "cell_type": "code",
      "source": [
        "age = 18\n",
        "s = '성인' if age >= 20 else '미성년자'\n",
        "print(s)"
      ],
      "metadata": {
        "colab": {
          "base_uri": "https://localhost:8080/"
        },
        "id": "tEjZVFrcqc1-",
        "outputId": "d02cd04b-2924-41f3-a3b8-76bdbfb98034"
      },
      "execution_count": 8,
      "outputs": [
        {
          "output_type": "stream",
          "name": "stdout",
          "text": [
            "미성년자\n"
          ]
        }
      ]
    },
    {
      "cell_type": "code",
      "source": [
        "age = 20\n",
        "s = '성인' if age >= 20 else '미성년자'\n",
        "print(s)"
      ],
      "metadata": {
        "colab": {
          "base_uri": "https://localhost:8080/"
        },
        "id": "0XcZvdrtrMnC",
        "outputId": "5301a970-57b3-4071-f22b-fca4e395d202"
      },
      "execution_count": 9,
      "outputs": [
        {
          "output_type": "stream",
          "name": "stdout",
          "text": [
            "성인\n"
          ]
        }
      ]
    },
    {
      "cell_type": "code",
      "source": [
        "point = 92\n",
        "if (90 <= point):\n",
        "  print('A')\n",
        "elif (80 <= point):\n",
        "  print('B')\n",
        "elif (70 <= point):\n",
        "  print('C')\n",
        "elif (60 <= point):\n",
        "  print('D')\n",
        "else:\n",
        "  print('F')"
      ],
      "metadata": {
        "colab": {
          "base_uri": "https://localhost:8080/"
        },
        "id": "Cjt_3WhurQBx",
        "outputId": "92cdba95-9b7a-4db4-dfcc-55f911e79637"
      },
      "execution_count": 10,
      "outputs": [
        {
          "output_type": "stream",
          "name": "stdout",
          "text": [
            "A\n"
          ]
        }
      ]
    },
    {
      "cell_type": "code",
      "source": [
        "point = 62\n",
        "if (90 <= point):\n",
        "  print('A')\n",
        "elif (80 <= point):\n",
        "  print('B')\n",
        "elif (70 <= point):\n",
        "  print('C')\n",
        "elif (60 <= point):\n",
        "  print('D')\n",
        "else:\n",
        "  print('F')"
      ],
      "metadata": {
        "colab": {
          "base_uri": "https://localhost:8080/"
        },
        "id": "h3oaiRUCrtTW",
        "outputId": "67494c46-4675-4a95-fe66-8178784ce9c1"
      },
      "execution_count": 11,
      "outputs": [
        {
          "output_type": "stream",
          "name": "stdout",
          "text": [
            "D\n"
          ]
        }
      ]
    },
    {
      "cell_type": "code",
      "source": [
        "value = \"apple\"\n",
        "match value:\n",
        "  case 'apple':\n",
        "    result = \"사과\"\n",
        "  case 'banana':\n",
        "    result = \"바나나\"\n",
        "\n",
        "print(result)"
      ],
      "metadata": {
        "colab": {
          "base_uri": "https://localhost:8080/"
        },
        "id": "y5oTYGxxrwBz",
        "outputId": "a710fa07-8c3c-4ca2-cb4a-ed3a6f0dccd7"
      },
      "execution_count": 12,
      "outputs": [
        {
          "output_type": "stream",
          "name": "stdout",
          "text": [
            "사과\n"
          ]
        }
      ]
    },
    {
      "cell_type": "code",
      "source": [
        "value = \"banana\"\n",
        "match value:\n",
        "  case 'apple':\n",
        "    result = \"사과\"\n",
        "  case 'banana':\n",
        "    result = \"바나나\"\n",
        "\n",
        "print(result)"
      ],
      "metadata": {
        "colab": {
          "base_uri": "https://localhost:8080/"
        },
        "id": "x2hRX4UTsVaF",
        "outputId": "c99cbdd2-7ef9-48c9-b9e7-08560178d7bc"
      },
      "execution_count": 13,
      "outputs": [
        {
          "output_type": "stream",
          "name": "stdout",
          "text": [
            "바나나\n"
          ]
        }
      ]
    },
    {
      "cell_type": "code",
      "source": [
        "value = \"mango\"\n",
        "match value:\n",
        "  case 'apple':\n",
        "    result = \"사과\"\n",
        "  case 'banana':\n",
        "    result = \"바나나\"\n",
        "  case _:\n",
        "    result = None\n",
        "\n",
        "print(result)"
      ],
      "metadata": {
        "colab": {
          "base_uri": "https://localhost:8080/"
        },
        "id": "nDzS_5nWsbCN",
        "outputId": "8fb72ec3-2333-45cb-da6f-d7c340226a7c"
      },
      "execution_count": 15,
      "outputs": [
        {
          "output_type": "stream",
          "name": "stdout",
          "text": [
            "None\n"
          ]
        }
      ]
    },
    {
      "cell_type": "code",
      "source": [
        "for x in range(1, 6):\n",
        "  print(x)"
      ],
      "metadata": {
        "colab": {
          "base_uri": "https://localhost:8080/"
        },
        "id": "bE_OkOYUsmG-",
        "outputId": "d5db16f6-56b5-4731-8925-b585570f1bdc"
      },
      "execution_count": 16,
      "outputs": [
        {
          "output_type": "stream",
          "name": "stdout",
          "text": [
            "1\n",
            "2\n",
            "3\n",
            "4\n",
            "5\n"
          ]
        }
      ]
    },
    {
      "cell_type": "code",
      "source": [
        "num = [10, 20, 30, 40]\n",
        "for i in num:\n",
        "  print(i)"
      ],
      "metadata": {
        "colab": {
          "base_uri": "https://localhost:8080/"
        },
        "id": "HC19o6p6su4-",
        "outputId": "23939db0-2e63-4d43-e6b9-fa30470c4525"
      },
      "execution_count": 17,
      "outputs": [
        {
          "output_type": "stream",
          "name": "stdout",
          "text": [
            "10\n",
            "20\n",
            "30\n",
            "40\n"
          ]
        }
      ]
    },
    {
      "cell_type": "code",
      "source": [
        "fruits = list([\"apple\", 2500, \"banana\", 500, \"mange\", 2000])\n",
        "for x in fruits:\n",
        "  print(x)"
      ],
      "metadata": {
        "colab": {
          "base_uri": "https://localhost:8080/"
        },
        "id": "C8JaYhlos7ty",
        "outputId": "8ed269fd-ec6f-4f40-b388-fc1a04178351"
      },
      "execution_count": 18,
      "outputs": [
        {
          "output_type": "stream",
          "name": "stdout",
          "text": [
            "apple\n",
            "2500\n",
            "banana\n",
            "500\n",
            "mange\n",
            "2000\n"
          ]
        }
      ]
    },
    {
      "cell_type": "code",
      "source": [
        "i = 1\n",
        "sum = 0\n",
        "while i <= 10:\n",
        "  sum += i\n",
        "  i += 1\n",
        "\n",
        "print(sum)"
      ],
      "metadata": {
        "colab": {
          "base_uri": "https://localhost:8080/"
        },
        "id": "AG8EyY61tMDU",
        "outputId": "bb2aae5d-8958-4b3d-997b-0b881508ce27"
      },
      "execution_count": 19,
      "outputs": [
        {
          "output_type": "stream",
          "name": "stdout",
          "text": [
            "55\n"
          ]
        }
      ]
    },
    {
      "cell_type": "markdown",
      "source": [
        "## 함수 구현"
      ],
      "metadata": {
        "id": "HIA2a3ZFtfU2"
      }
    },
    {
      "cell_type": "code",
      "source": [
        "def hello():\n",
        "  print('Hello, Python!')\n",
        "\n",
        "hello()"
      ],
      "metadata": {
        "colab": {
          "base_uri": "https://localhost:8080/"
        },
        "id": "-sNtAg4CtdSw",
        "outputId": "30897e96-e9e3-46cc-8d14-a5bfbbdf4088"
      },
      "execution_count": 22,
      "outputs": [
        {
          "output_type": "stream",
          "name": "stdout",
          "text": [
            "Hello, Python!\n"
          ]
        }
      ]
    },
    {
      "cell_type": "code",
      "source": [
        "def hello():\n",
        "  print('Hello, Python!')\n",
        "\n",
        "hello"
      ],
      "metadata": {
        "colab": {
          "base_uri": "https://localhost:8080/",
          "height": 103
        },
        "id": "dgrL-hJftrBe",
        "outputId": "b384b742-434a-494b-cb2a-be58dfe3190f"
      },
      "execution_count": 24,
      "outputs": [
        {
          "output_type": "execute_result",
          "data": {
            "text/plain": [
              "<function __main__.hello()>"
            ],
            "text/html": [
              "<div style=\"max-width:800px; border: 1px solid var(--colab-border-color);\"><style>\n",
              "      pre.function-repr-contents {\n",
              "        overflow-x: auto;\n",
              "        padding: 8px 12px;\n",
              "        max-height: 500px;\n",
              "      }\n",
              "\n",
              "      pre.function-repr-contents.function-repr-contents-collapsed {\n",
              "        cursor: pointer;\n",
              "        max-height: 100px;\n",
              "      }\n",
              "    </style>\n",
              "    <pre style=\"white-space: initial; background:\n",
              "         var(--colab-secondary-surface-color); padding: 8px 12px;\n",
              "         border-bottom: 1px solid var(--colab-border-color);\"><b>hello</b><br/>def hello()</pre><pre class=\"function-repr-contents function-repr-contents-collapsed\" style=\"\"><a class=\"filepath\" style=\"display:none\" href=\"#\">/content/&lt;ipython-input-24-53c064f0a26c&gt;</a>&lt;no docstring&gt;</pre></div>"
            ]
          },
          "metadata": {},
          "execution_count": 24
        }
      ]
    },
    {
      "cell_type": "code",
      "source": [
        "type(hello)"
      ],
      "metadata": {
        "colab": {
          "base_uri": "https://localhost:8080/"
        },
        "id": "wMCAWBcIt0Vy",
        "outputId": "585fd187-72aa-488b-b874-7871eacb53da"
      },
      "execution_count": 25,
      "outputs": [
        {
          "output_type": "execute_result",
          "data": {
            "text/plain": [
              "function"
            ]
          },
          "metadata": {},
          "execution_count": 25
        }
      ]
    },
    {
      "cell_type": "code",
      "source": [
        "def hi(one):\n",
        "  print('안녕,', one)\n",
        "\n",
        "hi('영희')"
      ],
      "metadata": {
        "colab": {
          "base_uri": "https://localhost:8080/"
        },
        "id": "ifNIzrHZuDZD",
        "outputId": "f1ccd6fe-9f0f-420a-fbf4-a362e4116ff0"
      },
      "execution_count": 27,
      "outputs": [
        {
          "output_type": "stream",
          "name": "stdout",
          "text": [
            "안녕, 영희\n"
          ]
        }
      ]
    },
    {
      "cell_type": "code",
      "source": [
        "def hi(one):\n",
        "  print('안녕,', one)\n",
        "\n",
        "hi"
      ],
      "metadata": {
        "colab": {
          "base_uri": "https://localhost:8080/",
          "height": 103
        },
        "id": "_ziy5NNsuRlT",
        "outputId": "be3d329f-e691-48cb-9ef4-248b11d94a57"
      },
      "execution_count": 29,
      "outputs": [
        {
          "output_type": "execute_result",
          "data": {
            "text/plain": [
              "<function __main__.hi(one)>"
            ],
            "text/html": [
              "<div style=\"max-width:800px; border: 1px solid var(--colab-border-color);\"><style>\n",
              "      pre.function-repr-contents {\n",
              "        overflow-x: auto;\n",
              "        padding: 8px 12px;\n",
              "        max-height: 500px;\n",
              "      }\n",
              "\n",
              "      pre.function-repr-contents.function-repr-contents-collapsed {\n",
              "        cursor: pointer;\n",
              "        max-height: 100px;\n",
              "      }\n",
              "    </style>\n",
              "    <pre style=\"white-space: initial; background:\n",
              "         var(--colab-secondary-surface-color); padding: 8px 12px;\n",
              "         border-bottom: 1px solid var(--colab-border-color);\"><b>hi</b><br/>def hi(one)</pre><pre class=\"function-repr-contents function-repr-contents-collapsed\" style=\"\"><a class=\"filepath\" style=\"display:none\" href=\"#\">/content/&lt;ipython-input-29-a8ca8ad7dd0c&gt;</a>&lt;no docstring&gt;</pre></div>"
            ]
          },
          "metadata": {},
          "execution_count": 29
        }
      ]
    },
    {
      "cell_type": "code",
      "source": [
        "str(hi)"
      ],
      "metadata": {
        "colab": {
          "base_uri": "https://localhost:8080/",
          "height": 35
        },
        "id": "rWN2rI4_uYUG",
        "outputId": "28e355c1-0d58-4a88-971e-e710a4bb3042"
      },
      "execution_count": 30,
      "outputs": [
        {
          "output_type": "execute_result",
          "data": {
            "text/plain": [
              "'<function hi at 0x7be8e22aa9e0>'"
            ],
            "application/vnd.google.colaboratory.intrinsic+json": {
              "type": "string"
            }
          },
          "metadata": {},
          "execution_count": 30
        }
      ]
    },
    {
      "cell_type": "code",
      "source": [
        "def hi(one = '친구들'):\n",
        "  print('안녕,', one)\n",
        "\n",
        "hi()"
      ],
      "metadata": {
        "colab": {
          "base_uri": "https://localhost:8080/"
        },
        "id": "HUIdoVtgudAO",
        "outputId": "c3fc7088-59ab-475e-8531-ad7c8a77d0eb"
      },
      "execution_count": 31,
      "outputs": [
        {
          "output_type": "stream",
          "name": "stdout",
          "text": [
            "안녕, 친구들\n"
          ]
        }
      ]
    },
    {
      "cell_type": "code",
      "source": [
        "def hi(one = '친구들'):\n",
        "  print('안녕,', one)\n",
        "\n",
        "hi('철수')"
      ],
      "metadata": {
        "colab": {
          "base_uri": "https://localhost:8080/"
        },
        "id": "uY-GDM05usSx",
        "outputId": "9b128c54-2685-4164-f3bb-edc1302444c3"
      },
      "execution_count": 32,
      "outputs": [
        {
          "output_type": "stream",
          "name": "stdout",
          "text": [
            "안녕, 철수\n"
          ]
        }
      ]
    },
    {
      "cell_type": "code",
      "source": [
        "import math as m\n",
        "def circle_area(r= 1):\n",
        "  print(m.pi * r**2)\n",
        "\n",
        "circle_area()"
      ],
      "metadata": {
        "colab": {
          "base_uri": "https://localhost:8080/"
        },
        "id": "VP9M2dnzuwy9",
        "outputId": "25ed38ff-24f4-43eb-ce48-205acb26bb58"
      },
      "execution_count": 33,
      "outputs": [
        {
          "output_type": "stream",
          "name": "stdout",
          "text": [
            "3.141592653589793\n"
          ]
        }
      ]
    },
    {
      "cell_type": "code",
      "source": [
        "import math as m\n",
        "def circle_area(r= 1):\n",
        "  print(m.pi * r**2)\n",
        "\n",
        "circle_area(4.5)"
      ],
      "metadata": {
        "colab": {
          "base_uri": "https://localhost:8080/"
        },
        "id": "Q7p4r3kIvJsH",
        "outputId": "b59ec22d-b15e-4e9d-e465-0d5a0f659532"
      },
      "execution_count": 34,
      "outputs": [
        {
          "output_type": "stream",
          "name": "stdout",
          "text": [
            "63.61725123519331\n"
          ]
        }
      ]
    },
    {
      "cell_type": "code",
      "source": [
        "import math as m\n",
        "def circle_area(r= 1):\n",
        "  print(m.pi * r**2)\n",
        "\n",
        "circle_area(r = 5.6)"
      ],
      "metadata": {
        "colab": {
          "base_uri": "https://localhost:8080/"
        },
        "id": "lTFxM8WwvOLQ",
        "outputId": "7ee46d89-2e8c-455b-c7be-d0e7b6fbfa46"
      },
      "execution_count": 35,
      "outputs": [
        {
          "output_type": "stream",
          "name": "stdout",
          "text": [
            "98.5203456165759\n"
          ]
        }
      ]
    },
    {
      "cell_type": "code",
      "source": [
        "import math as m\n",
        "def circle_area(r= 1):\n",
        "  print(m.pi * r**2)\n",
        "\n",
        "print(circle_area(r = 7.2))"
      ],
      "metadata": {
        "colab": {
          "base_uri": "https://localhost:8080/"
        },
        "id": "Ylp9_cfBvRnD",
        "outputId": "ce2ce879-e169-4857-ac5f-eec33b307b5a"
      },
      "execution_count": 36,
      "outputs": [
        {
          "output_type": "stream",
          "name": "stdout",
          "text": [
            "162.8601631620949\n",
            "None\n"
          ]
        }
      ]
    },
    {
      "cell_type": "code",
      "source": [
        "import math as m\n",
        "def circle_area(r= 1):\n",
        "  return m.pi * r**2\n",
        "\n",
        "print(circle_area(r = 7.2))"
      ],
      "metadata": {
        "colab": {
          "base_uri": "https://localhost:8080/"
        },
        "id": "KmnUAoGlvY3a",
        "outputId": "91b23b9c-2cbe-4d54-d3a8-8e64204ce66b"
      },
      "execution_count": 37,
      "outputs": [
        {
          "output_type": "stream",
          "name": "stdout",
          "text": [
            "162.8601631620949\n"
          ]
        }
      ]
    },
    {
      "cell_type": "code",
      "source": [
        "def sum_sub(x, y):\n",
        "  hap = x + y\n",
        "  cha = x - y\n",
        "  return hap, cha\n",
        "\n",
        "sum_sub(10, 3)"
      ],
      "metadata": {
        "colab": {
          "base_uri": "https://localhost:8080/"
        },
        "id": "x-HVAf37vnpr",
        "outputId": "b9f4d028-aa66-4574-9bd5-b76641803374"
      },
      "execution_count": 38,
      "outputs": [
        {
          "output_type": "execute_result",
          "data": {
            "text/plain": [
              "(13, 7)"
            ]
          },
          "metadata": {},
          "execution_count": 38
        }
      ]
    },
    {
      "cell_type": "code",
      "source": [
        "def sum_sub(x, y):\n",
        "  hap = x + y\n",
        "  cha = x - y\n",
        "  return hap, cha\n",
        "\n",
        "sum_sub(x = 10, y = 3)"
      ],
      "metadata": {
        "colab": {
          "base_uri": "https://localhost:8080/"
        },
        "id": "xZJzIn4cv9yg",
        "outputId": "e37a657c-865c-4814-a6ba-b81841c55ec7"
      },
      "execution_count": 39,
      "outputs": [
        {
          "output_type": "execute_result",
          "data": {
            "text/plain": [
              "(13, 7)"
            ]
          },
          "metadata": {},
          "execution_count": 39
        }
      ]
    },
    {
      "cell_type": "code",
      "source": [
        "def sum_sub(x, y):\n",
        "  hap = x + y\n",
        "  cha = x - y\n",
        "  return hap, cha\n",
        "\n",
        "sum_sub(y = 3, x = 10)"
      ],
      "metadata": {
        "colab": {
          "base_uri": "https://localhost:8080/"
        },
        "id": "vxqY08VowDJC",
        "outputId": "b0f5f98b-ed82-4a0d-f713-1bc05e3615bc"
      },
      "execution_count": 40,
      "outputs": [
        {
          "output_type": "execute_result",
          "data": {
            "text/plain": [
              "(13, 7)"
            ]
          },
          "metadata": {},
          "execution_count": 40
        }
      ]
    },
    {
      "cell_type": "code",
      "source": [
        "import math as m\n",
        "(lambda a, b: m.sqrt(a**2 + b**2))(3, 4)"
      ],
      "metadata": {
        "colab": {
          "base_uri": "https://localhost:8080/"
        },
        "id": "YhZ15kQ8wJOC",
        "outputId": "88c2d73f-f454-428f-8c4d-3523c06f5397"
      },
      "execution_count": 41,
      "outputs": [
        {
          "output_type": "execute_result",
          "data": {
            "text/plain": [
              "5.0"
            ]
          },
          "metadata": {},
          "execution_count": 41
        }
      ]
    }
  ]
}